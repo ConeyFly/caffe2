{
 "cells": [
  {
   "cell_type": "code",
   "execution_count": 1,
   "metadata": {
    "collapsed": false
   },
   "outputs": [],
   "source": [
    "import sys\n",
    "sys.path.insert(0,'/home/ernie/caffe2/build')\n",
    "from caffe2.python import cnn,workspace,core\n",
    "from caffe2.proto import caffe2_pb2\n",
    "import numpy as np\n",
    "import time\n"
   ]
  },
  {
   "cell_type": "code",
   "execution_count": 2,
   "metadata": {
    "collapsed": false,
    "scrolled": true
   },
   "outputs": [
    {
     "name": "stdout",
     "output_type": "stream",
     "text": [
      "name: \"prior_test\"\n",
      "op {\n",
      "  input: \"conv4_3_norm\"\n",
      "  input: \"data\"\n",
      "  output: \"prior_box\"\n",
      "  name: \"\"\n",
      "  type: \"PriorBox\"\n",
      "  arg {\n",
      "    name: \"aspect_ratios\"\n",
      "    floats: 2.0\n",
      "    floats: 3.0\n",
      "  }\n",
      "  arg {\n",
      "    name: \"clip\"\n",
      "    i: 0\n",
      "  }\n",
      "  arg {\n",
      "    name: \"min_sizes\"\n",
      "    floats: 21.0\n",
      "    floats: 30.0\n",
      "  }\n",
      "  arg {\n",
      "    name: \"flip\"\n",
      "    i: 1\n",
      "  }\n",
      "  arg {\n",
      "    name: \"step\"\n",
      "    f: 8.0\n",
      "  }\n",
      "  arg {\n",
      "    name: \"max_sizes\"\n",
      "    floats: 45.0\n",
      "    floats: 60.0\n",
      "  }\n",
      "  arg {\n",
      "    name: \"variance\"\n",
      "    floats: 0.10000000149\n",
      "    floats: 0.10000000149\n",
      "    floats: 0.20000000298\n",
      "    floats: 0.20000000298\n",
      "  }\n",
      "}\n",
      "external_input: \"conv4_3_norm\"\n",
      "external_input: \"data\"\n",
      "\n"
     ]
    }
   ],
   "source": [
    "net = core.Net(\"prior_test\")\n",
    "net.PriorBox([\"conv4_3_norm\",\"data\"],\"prior_box\",min_sizes=[21.0,30.0],max_sizes=[45.0,60.0],\n",
    "            aspect_ratios=[2.,3.],flip=True,clip=False,\n",
    "            variance=[0.1,0.1,0.2,0.2],step=8.)\n",
    "print net.Proto()"
   ]
  },
  {
   "cell_type": "code",
   "execution_count": 3,
   "metadata": {
    "collapsed": false
   },
   "outputs": [
    {
     "data": {
      "text/plain": [
       "True"
      ]
     },
     "execution_count": 3,
     "metadata": {},
     "output_type": "execute_result"
    }
   ],
   "source": [
    "workspace.FeedBlob(\"data\",np.random.rand(1,3,300,300).astype(np.float32))\n",
    "workspace.FeedBlob(\"conv4_3_norm\",np.random.rand(1,512,38,38).astype(np.float32))"
   ]
  },
  {
   "cell_type": "code",
   "execution_count": 4,
   "metadata": {
    "collapsed": false
   },
   "outputs": [
    {
     "data": {
      "text/plain": [
       "True"
      ]
     },
     "execution_count": 4,
     "metadata": {},
     "output_type": "execute_result"
    }
   ],
   "source": [
    "workspace.CreateNet(net.Proto())\n",
    "workspace.RunNet(\"prior_test\",1)"
   ]
  },
  {
   "cell_type": "code",
   "execution_count": 5,
   "metadata": {
    "collapsed": false
   },
   "outputs": [],
   "source": [
    "caffe_out = np.load('/home/ernie/caffe2/caffe2/python/ssd_test/prior_layer/prior.npy')\n",
    "caffe2_out = workspace.FetchBlob(\"prior_box\")"
   ]
  },
  {
   "cell_type": "code",
   "execution_count": 8,
   "metadata": {
    "collapsed": false
   },
   "outputs": [
    {
     "name": "stdout",
     "output_type": "stream",
     "text": [
      "\u001b]0;IPython: python/ssd_test\u0007"
     ]
    },
    {
     "ename": "MultipleInstanceError",
     "evalue": "Multiple incompatible subclass instances of TerminalIPythonApp are being created.",
     "output_type": "error",
     "traceback": [
      "\u001b[0;31m---------------------------------------------------------------------------\u001b[0m",
      "\u001b[0;31mMultipleInstanceError\u001b[0m                     Traceback (most recent call last)",
      "\u001b[0;32m<ipython-input-8-d86ada37b0bb>\u001b[0m in \u001b[0;36m<module>\u001b[0;34m()\u001b[0m\n\u001b[0;32m----> 1\u001b[0;31m \u001b[0;32mimport\u001b[0m \u001b[0mipdb\u001b[0m\u001b[0;34m\u001b[0m\u001b[0m\n\u001b[0m\u001b[1;32m      2\u001b[0m \u001b[0mipdb\u001b[0m\u001b[0;34m.\u001b[0m\u001b[0mset_trace\u001b[0m\u001b[0;34m(\u001b[0m\u001b[0;34m)\u001b[0m\u001b[0;34m\u001b[0m\u001b[0m\n\u001b[1;32m      3\u001b[0m \u001b[0;32mprint\u001b[0m \u001b[0mnp\u001b[0m\u001b[0;34m.\u001b[0m\u001b[0mallclose\u001b[0m\u001b[0;34m(\u001b[0m\u001b[0mcaffe_out\u001b[0m\u001b[0;34m,\u001b[0m\u001b[0mcaffe2_out\u001b[0m\u001b[0;34m)\u001b[0m\u001b[0;34m\u001b[0m\u001b[0m\n",
      "\u001b[0;32m/home/ernie/.local/lib/python2.7/site-packages/ipdb/__init__.py\u001b[0m in \u001b[0;36m<module>\u001b[0;34m()\u001b[0m\n\u001b[1;32m      5\u001b[0m \u001b[0;31m# https://opensource.org/licenses/BSD-3-Clause\u001b[0m\u001b[0;34m\u001b[0m\u001b[0;34m\u001b[0m\u001b[0m\n\u001b[1;32m      6\u001b[0m \u001b[0;34m\u001b[0m\u001b[0m\n\u001b[0;32m----> 7\u001b[0;31m \u001b[0;32mfrom\u001b[0m \u001b[0mipdb\u001b[0m\u001b[0;34m.\u001b[0m\u001b[0m__main__\u001b[0m \u001b[0;32mimport\u001b[0m \u001b[0mset_trace\u001b[0m\u001b[0;34m,\u001b[0m \u001b[0mpost_mortem\u001b[0m\u001b[0;34m,\u001b[0m \u001b[0mpm\u001b[0m\u001b[0;34m,\u001b[0m \u001b[0mrun\u001b[0m             \u001b[0;31m# noqa\u001b[0m\u001b[0;34m\u001b[0m\u001b[0m\n\u001b[0m\u001b[1;32m      8\u001b[0m \u001b[0;32mfrom\u001b[0m \u001b[0mipdb\u001b[0m\u001b[0;34m.\u001b[0m\u001b[0m__main__\u001b[0m \u001b[0;32mimport\u001b[0m \u001b[0mruncall\u001b[0m\u001b[0;34m,\u001b[0m \u001b[0mruneval\u001b[0m\u001b[0;34m,\u001b[0m \u001b[0mlaunch_ipdb_on_exception\u001b[0m  \u001b[0;31m# noqa\u001b[0m\u001b[0;34m\u001b[0m\u001b[0m\n\u001b[1;32m      9\u001b[0m \u001b[0;34m\u001b[0m\u001b[0m\n",
      "\u001b[0;32m/home/ernie/.local/lib/python2.7/site-packages/ipdb/__main__.py\u001b[0m in \u001b[0;36m<module>\u001b[0;34m()\u001b[0m\n\u001b[1;32m     60\u001b[0m     \u001b[0;31m# the instance method will create a new one without loading the config.\u001b[0m\u001b[0;34m\u001b[0m\u001b[0;34m\u001b[0m\u001b[0m\n\u001b[1;32m     61\u001b[0m     \u001b[0;31m# i.e: if we are in an embed instance we do not want to load the config.\u001b[0m\u001b[0;34m\u001b[0m\u001b[0;34m\u001b[0m\u001b[0m\n\u001b[0;32m---> 62\u001b[0;31m     \u001b[0mipapp\u001b[0m \u001b[0;34m=\u001b[0m \u001b[0mTerminalIPythonApp\u001b[0m\u001b[0;34m.\u001b[0m\u001b[0minstance\u001b[0m\u001b[0;34m(\u001b[0m\u001b[0;34m)\u001b[0m\u001b[0;34m\u001b[0m\u001b[0m\n\u001b[0m\u001b[1;32m     63\u001b[0m     \u001b[0mshell\u001b[0m \u001b[0;34m=\u001b[0m \u001b[0mget_ipython\u001b[0m\u001b[0;34m(\u001b[0m\u001b[0;34m)\u001b[0m\u001b[0;34m\u001b[0m\u001b[0m\n\u001b[1;32m     64\u001b[0m     \u001b[0mdef_colors\u001b[0m \u001b[0;34m=\u001b[0m \u001b[0mshell\u001b[0m\u001b[0;34m.\u001b[0m\u001b[0mcolors\u001b[0m\u001b[0;34m\u001b[0m\u001b[0m\n",
      "\u001b[0;32m/home/ernie/.local/lib/python2.7/site-packages/traitlets/config/configurable.pyc\u001b[0m in \u001b[0;36minstance\u001b[0;34m(cls, *args, **kwargs)\u001b[0m\n\u001b[1;32m    421\u001b[0m             raise MultipleInstanceError(\n\u001b[1;32m    422\u001b[0m                 \u001b[0;34m'Multiple incompatible subclass instances of '\u001b[0m\u001b[0;34m\u001b[0m\u001b[0m\n\u001b[0;32m--> 423\u001b[0;31m                 \u001b[0;34m'%s are being created.'\u001b[0m \u001b[0;34m%\u001b[0m \u001b[0mcls\u001b[0m\u001b[0;34m.\u001b[0m\u001b[0m__name__\u001b[0m\u001b[0;34m\u001b[0m\u001b[0m\n\u001b[0m\u001b[1;32m    424\u001b[0m             )\n\u001b[1;32m    425\u001b[0m \u001b[0;34m\u001b[0m\u001b[0m\n",
      "\u001b[0;31mMultipleInstanceError\u001b[0m: Multiple incompatible subclass instances of TerminalIPythonApp are being created."
     ]
    }
   ],
   "source": [
    "import ipdb\n",
    "ipdb.set_trace()\n",
    "print np.allclose(caffe_out,caffe2_out)"
   ]
  },
  {
   "cell_type": "code",
   "execution_count": 6,
   "metadata": {
    "collapsed": false
   },
   "outputs": [
    {
     "name": "stdout",
     "output_type": "stream",
     "text": [
      "[[[-0.02166667 -0.02166667  0.04833333 ...,  0.91339743  1.02886748\n",
      "    1.08660257]\n",
      "  [ 0.1         0.1         0.2        ...,  0.1         0.2         0.2       ]]]\n"
     ]
    }
   ],
   "source": [
    "print caffe_out"
   ]
  },
  {
   "cell_type": "code",
   "execution_count": 6,
   "metadata": {
    "collapsed": false
   },
   "outputs": [
    {
     "name": "stdout",
     "output_type": "stream",
     "text": [
      "[[[-0.035      -0.035       0.035      ...,  0.90297353  1.04439485\n",
      "    1.04439485]\n",
      "  [ 0.1         0.1         0.2        ...,  0.1         0.2         0.2       ]]]\n"
     ]
    }
   ],
   "source": [
    "print caffe2_out"
   ]
  },
  {
   "cell_type": "code",
   "execution_count": 8,
   "metadata": {
    "collapsed": false
   },
   "outputs": [
    {
     "ename": "ValueError",
     "evalue": "operands could not be broadcast together with shapes (1,2,69312) (1,2,23104) ",
     "output_type": "error",
     "traceback": [
      "\u001b[0;31m---------------------------------------------------------------------------\u001b[0m",
      "\u001b[0;31mValueError\u001b[0m                                Traceback (most recent call last)",
      "\u001b[0;32m<ipython-input-8-5665fe59f5a9>\u001b[0m in \u001b[0;36m<module>\u001b[0;34m()\u001b[0m\n\u001b[0;32m----> 1\u001b[0;31m \u001b[0;32mprint\u001b[0m \u001b[0mnp\u001b[0m\u001b[0;34m.\u001b[0m\u001b[0msum\u001b[0m\u001b[0;34m(\u001b[0m\u001b[0mcaffe_out\u001b[0m\u001b[0;34m-\u001b[0m\u001b[0mcaffe2_out\u001b[0m\u001b[0;34m)\u001b[0m\u001b[0;34m\u001b[0m\u001b[0m\n\u001b[0m",
      "\u001b[0;31mValueError\u001b[0m: operands could not be broadcast together with shapes (1,2,69312) (1,2,23104) "
     ]
    }
   ],
   "source": [
    "print np.sum(caffe_out-caffe2_out)"
   ]
  },
  {
   "cell_type": "code",
   "execution_count": 7,
   "metadata": {
    "collapsed": false
   },
   "outputs": [
    {
     "name": "stdout",
     "output_type": "stream",
     "text": [
      "(1, 2, 23104)\n"
     ]
    }
   ],
   "source": [
    "print np.shape(caffe2_out)"
   ]
  },
  {
   "cell_type": "code",
   "execution_count": null,
   "metadata": {
    "collapsed": true
   },
   "outputs": [],
   "source": []
  }
 ],
 "metadata": {
  "kernelspec": {
   "display_name": "Python 2",
   "language": "python",
   "name": "python2"
  },
  "language_info": {
   "codemirror_mode": {
    "name": "ipython",
    "version": 2
   },
   "file_extension": ".py",
   "mimetype": "text/x-python",
   "name": "python",
   "nbconvert_exporter": "python",
   "pygments_lexer": "ipython2",
   "version": "2.7.12"
  }
 },
 "nbformat": 4,
 "nbformat_minor": 2
}
