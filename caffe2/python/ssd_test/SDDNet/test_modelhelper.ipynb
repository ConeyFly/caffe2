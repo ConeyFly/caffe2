{
 "cells": [
  {
   "cell_type": "code",
   "execution_count": 1,
   "metadata": {
    "collapsed": false
   },
   "outputs": [
    {
     "ename": "ImportError",
     "evalue": "No module named anno_input",
     "output_type": "error",
     "traceback": [
      "\u001b[0;31m---------------------------------------------------------------------------\u001b[0m",
      "\u001b[0;31mImportError\u001b[0m                               Traceback (most recent call last)",
      "\u001b[0;32m<ipython-input-1-999b226a1973>\u001b[0m in \u001b[0;36m<module>\u001b[0;34m()\u001b[0m\n\u001b[1;32m      5\u001b[0m \u001b[0;34m\u001b[0m\u001b[0m\n\u001b[1;32m      6\u001b[0m \u001b[0;32mfrom\u001b[0m \u001b[0mcaffe2\u001b[0m\u001b[0;34m.\u001b[0m\u001b[0mpython\u001b[0m \u001b[0;32mimport\u001b[0m \u001b[0mcore\u001b[0m\u001b[0;34m,\u001b[0m \u001b[0mmodel_helper\u001b[0m\u001b[0;34m,\u001b[0m \u001b[0mnet_drawer\u001b[0m\u001b[0;34m,\u001b[0m \u001b[0mworkspace\u001b[0m\u001b[0;34m,\u001b[0m \u001b[0mbrew\u001b[0m\u001b[0;34m\u001b[0m\u001b[0m\n\u001b[0;32m----> 7\u001b[0;31m \u001b[0;32mimport\u001b[0m \u001b[0mcaffe2\u001b[0m\u001b[0;34m.\u001b[0m\u001b[0mpython\u001b[0m\u001b[0;34m.\u001b[0m\u001b[0mhelpers\u001b[0m\u001b[0;34m.\u001b[0m\u001b[0manno_input\u001b[0m \u001b[0;32mas\u001b[0m \u001b[0manno_input\u001b[0m\u001b[0;34m\u001b[0m\u001b[0m\n\u001b[0m\u001b[1;32m      8\u001b[0m \u001b[0;32mimport\u001b[0m \u001b[0mnumpy\u001b[0m \u001b[0;32mas\u001b[0m \u001b[0mnp\u001b[0m\u001b[0;34m\u001b[0m\u001b[0m\n",
      "\u001b[0;31mImportError\u001b[0m: No module named anno_input"
     ]
    }
   ],
   "source": [
    "%matplotlib inline\n",
    "from matplotlib import pyplot\n",
    "import sys\n",
    "sys.path.insert(0,'/home/ernie/caffe2/build')\n",
    "\n",
    "from caffe2.python import core, model_helper, net_drawer, workspace, brew\n",
    "import caffe2.python.helpers.anno_input as anno_input\n",
    "import numpy as np"
   ]
  },
  {
   "cell_type": "code",
   "execution_count": 3,
   "metadata": {
    "collapsed": false
   },
   "outputs": [
    {
     "ename": "NameError",
     "evalue": "name 'anno_input' is not defined",
     "output_type": "error",
     "traceback": [
      "\u001b[0;31m---------------------------------------------------------------------------\u001b[0m",
      "\u001b[0;31mNameError\u001b[0m                                 Traceback (most recent call last)",
      "\u001b[0;32m<ipython-input-3-a6c466ef592c>\u001b[0m in \u001b[0;36m<module>\u001b[0;34m()\u001b[0m\n\u001b[1;32m      1\u001b[0m \u001b[0mtrain_model\u001b[0m \u001b[0;34m=\u001b[0m \u001b[0mmodel_helper\u001b[0m\u001b[0;34m.\u001b[0m\u001b[0mModelHelper\u001b[0m\u001b[0;34m(\u001b[0m\u001b[0mname\u001b[0m\u001b[0;34m=\u001b[0m\u001b[0;34m\"mnist_train\"\u001b[0m\u001b[0;34m)\u001b[0m\u001b[0;34m\u001b[0m\u001b[0m\n\u001b[0;32m----> 2\u001b[0;31m \u001b[0mbrew\u001b[0m\u001b[0;34m.\u001b[0m\u001b[0mRegister\u001b[0m\u001b[0;34m(\u001b[0m\u001b[0manno_input\u001b[0m\u001b[0;34m.\u001b[0m\u001b[0manno_input\u001b[0m\u001b[0;34m)\u001b[0m\u001b[0;34m\u001b[0m\u001b[0m\n\u001b[0m\u001b[1;32m      3\u001b[0m anno_data, label = brew.anno_input(train_model, [], [\"anno_data\",\"label\"], \n\u001b[1;32m      4\u001b[0m                         \u001b[0mbatch_size\u001b[0m\u001b[0;34m=\u001b[0m\u001b[0;36m1\u001b[0m\u001b[0;34m,\u001b[0m\u001b[0mdb\u001b[0m\u001b[0;34m=\u001b[0m\u001b[0;34m\"/home/ernie/data/VOCdevkit/VOC0712/lmdb/VOC0712_trainval_lmdb\"\u001b[0m\u001b[0;34m,\u001b[0m\u001b[0;34m\u001b[0m\u001b[0m\n\u001b[1;32m      5\u001b[0m                                   db_type=\"lmdb\")\n",
      "\u001b[0;31mNameError\u001b[0m: name 'anno_input' is not defined"
     ]
    }
   ],
   "source": [
    "train_model = model_helper.ModelHelper(name=\"mnist_train\")\n",
    "brew.Register(anno_input.anno_input)\n",
    "anno_data, label = brew.anno_input(train_model, [], [\"anno_data\",\"label\"], \n",
    "                        batch_size=1,db=\"/home/ernie/data/VOCdevkit/VOC0712/lmdb/VOC0712_trainval_lmdb\",\n",
    "                                  db_type=\"lmdb\")\n",
    "# anno_data, label = train_model.net.AnnotationInput([],\n",
    "#     [\"anno_data\",\"label\"],\n",
    "#     db = \"/home/ernie/data/VOCdevkit/VOC0712/lmdb/VOC0712_trainval_lmdb\",\n",
    "#     batch_size=1 ,\n",
    "#     scale = 300,\n",
    "#     crop = 300,\n",
    "#     use_gpu_transform = 0,\n",
    "#    # minsize = 332,\n",
    "#     mirror = 0,\n",
    "#     warp = 1,\n",
    "#     color = 1,\n",
    "#     use_caffe_datum = 1,\n",
    "#     db_type = \"lmdb\",\n",
    "#     interp_mode = [\"LINEAR\",\"AREA\",\"NEAREST\",\"CUBIC\",\"LANCZOS4\"])\n",
    "workspace.CreateNet(train_model.net, overwrite=True)"
   ]
  },
  {
   "cell_type": "code",
   "execution_count": 7,
   "metadata": {
    "collapsed": false
   },
   "outputs": [
    {
     "name": "stdout",
     "output_type": "stream",
     "text": [
      "(1, 3, 300, 300)\n",
      "[[[[ 0.          3.          0.          0.45645645  0.50400001  0.8108108\n",
      "     1.          0.        ]]]]\n"
     ]
    }
   ],
   "source": [
    "workspace.RunNet(train_model.net)\n",
    "anno_data = workspace.FetchBlob(\"anno_data\")\n",
    "label = workspace.FetchBlob(\"label\")\n",
    "print np.shape(anno_data)\n",
    "print label"
   ]
  },
  {
   "cell_type": "code",
   "execution_count": null,
   "metadata": {
    "collapsed": true
   },
   "outputs": [],
   "source": []
  }
 ],
 "metadata": {
  "kernelspec": {
   "display_name": "Python 2",
   "language": "python",
   "name": "python2"
  },
  "language_info": {
   "codemirror_mode": {
    "name": "ipython",
    "version": 2
   },
   "file_extension": ".py",
   "mimetype": "text/x-python",
   "name": "python",
   "nbconvert_exporter": "python",
   "pygments_lexer": "ipython2",
   "version": "2.7.12"
  }
 },
 "nbformat": 4,
 "nbformat_minor": 2
}
