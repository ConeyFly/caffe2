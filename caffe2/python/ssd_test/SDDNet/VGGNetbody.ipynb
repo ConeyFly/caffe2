{
 "cells": [
  {
   "cell_type": "code",
   "execution_count": 1,
   "metadata": {
    "collapsed": false
   },
   "outputs": [],
   "source": [
    "%matplotlib inline\n",
    "from matplotlib import pyplot\n",
    "import sys\n",
    "sys.path.insert(0,'/home/ernie/caffe2/build')\n",
    "\n",
    "from caffe2.python import core, model_helper, net_drawer, workspace, brew\n",
    "import caffe2.python.models.VGGNet as VGGNet\n",
    "import numpy as np"
   ]
  },
  {
   "cell_type": "code",
   "execution_count": 2,
   "metadata": {
    "collapsed": true
   },
   "outputs": [],
   "source": [
    "def AddInput(model,batch_size,db,db_type):\n",
    "    data, label = brew.image_input(\n",
    "        model, [],[\"data\",\"label\"],batch_size=batch_size,\n",
    "        use_caffe_datum=True,\n",
    "        crop=32,\n",
    "        scale=40,\n",
    "        db=db,db_type=db_type\n",
    "    )\n",
    "    return data, label"
   ]
  },
  {
   "cell_type": "code",
   "execution_count": 3,
   "metadata": {
    "collapsed": true
   },
   "outputs": [],
   "source": [
    "def AddModel(model,data):\n",
    "    fc7 = VGGNet.VGGNetBody(model,data,3,dropout=False,dilated=True)\n",
    "    fc8 = brew.fc(model,fc7,'fc8',4096,10)\n",
    "    softmax = brew.softmax(model,fc8,'softmax')\n",
    "    return softmax"
   ]
  },
  {
   "cell_type": "code",
   "execution_count": 4,
   "metadata": {
    "collapsed": true
   },
   "outputs": [],
   "source": [
    "def AddAccuracy(model, softmax, label):\n",
    "    accuracy = brew.accuracy(model, [softmax,label],\"accuracy\")\n",
    "    return accuracy"
   ]
  },
  {
   "cell_type": "code",
   "execution_count": 5,
   "metadata": {
    "collapsed": true
   },
   "outputs": [],
   "source": [
    "def AddTrainingOperators(model, softmax, label):\n",
    "    xent = model.LabelCrossEntropy([softmax,label],'xent')\n",
    "    loss = model.AveragedLoss(xent,'loss')\n",
    "    AddAccuracy(model,softmax,label)\n",
    "    model.AddGradientOperators([loss])\n",
    "    ITER = brew.iter(model,\"iter\")\n",
    "    LR = model.LearningRate(ITER,\"LR\",base_lr=-0.001,policy=\"step\",stepsize=1000,gamma=0.1)\n",
    "    ONE = model.param_init_net.ConstantFill([],\"ONE\", shape=[1],value=1.0)\n",
    "    for param in model.params:\n",
    "        param_grad = model.param_to_grad[param]\n",
    "        model.WeightedSum([param,ONE,param_grad,LR],param)\n",
    "    "
   ]
  },
  {
   "cell_type": "code",
   "execution_count": 6,
   "metadata": {
    "collapsed": false
   },
   "outputs": [],
   "source": [
    "arg_scope = {\"order\":\"NCHW\"}\n",
    "train_model = model_helper.ModelHelper(name=\"cifar10_train\",arg_scope=arg_scope)\n",
    "data, label = AddInput(train_model, batch_size=10,\n",
    "                      db=\"/home/ernie/data/cifar10/cifar10_train_lmdb\",db_type='lmdb')\n",
    "softmax = AddModel(train_model, data)\n",
    "AddTrainingOperators(train_model, softmax, label)\n",
    "\n",
    "arg_scope = {\"order\":\"NCHW\"}\n",
    "test_model = model_helper.ModelHelper(name=\"cifar10_train\",arg_scope=arg_scope)\n",
    "data, label = AddInput(test_model, batch_size=100,\n",
    "                      db=\"/home/ernie/data/cifar10/cifar10_test_lmdb\",db_type='lmdb')\n",
    "softmax = AddModel(test_model, data)\n",
    "AddAccuracy(train_model, softmax, label)\n"
   ]
  },
  {
   "cell_type": "code",
   "execution_count": 7,
   "metadata": {
    "collapsed": false
   },
   "outputs": [
    {
     "name": "stdout",
     "output_type": "stream",
     "text": [
      "0\n",
      "100\n",
      "200\n",
      "300\n",
      "400\n",
      "500\n",
      "600\n",
      "700\n",
      "800\n",
      "900\n",
      "1000\n",
      "1100\n",
      "1200\n",
      "1300\n",
      "1400\n",
      "1500\n",
      "1600\n",
      "1700\n",
      "1800\n",
      "1900\n",
      "2000\n",
      "2100\n",
      "2200\n",
      "2300\n",
      "2400\n",
      "2500\n",
      "2600\n",
      "2700\n",
      "2800\n",
      "2900\n",
      "3000\n",
      "3100\n",
      "3200\n",
      "3300\n",
      "3400\n",
      "3500\n",
      "3600\n",
      "3700\n",
      "3800\n",
      "3900\n",
      "4000\n",
      "4100\n",
      "4200\n",
      "4300\n",
      "4400\n",
      "4500\n",
      "4600\n",
      "4700\n",
      "4800\n",
      "4900\n"
     ]
    },
    {
     "data": {
      "text/plain": [
       "<matplotlib.legend.Legend at 0x7f8a39f94750>"
      ]
     },
     "execution_count": 7,
     "metadata": {},
     "output_type": "execute_result"
    },
    {
     "data": {
      "image/png": "[encoded data removed]",
      "text/plain": [
       "<matplotlib.figure.Figure at 0x7f8a706f2350>"
      ]
     },
     "metadata": {},
     "output_type": "display_data"
    }
   ],
   "source": [
    "workspace.RunNetOnce(train_model.param_init_net)\n",
    "workspace.CreateNet(train_model.net, overwrite=True)\n",
    "total_iters = 5000\n",
    "accuracy = np.zeros(total_iters)\n",
    "loss = np.zeros(total_iters)\n",
    "# Now, we will manually run the network for 200 iterations.\n",
    "for i in range(total_iters):\n",
    "    workspace.RunNet(train_model.net)\n",
    "    accuracy[i] = workspace.FetchBlob('accuracy')\n",
    "    loss[i] = workspace.FetchBlob('loss')\n",
    "    if i % 100==0:\n",
    "        print i\n",
    "pyplot.plot(loss, 'b')\n",
    "pyplot.plot(accuracy, 'r')\n",
    "pyplot.legend(('Loss', 'Accuracy'), loc='upper right')"
   ]
  },
  {
   "cell_type": "code",
   "execution_count": 8,
   "metadata": {
    "collapsed": false
   },
   "outputs": [
    {
     "name": "stdout",
     "output_type": "stream",
     "text": [
      "0.20000000298\n"
     ]
    }
   ],
   "source": [
    "print accuracy[329]"
   ]
  },
  {
   "cell_type": "code",
   "execution_count": null,
   "metadata": {
    "collapsed": true
   },
   "outputs": [],
   "source": []
  }
 ],
 "metadata": {
  "kernelspec": {
   "display_name": "Python 2",
   "language": "python",
   "name": "python2"
  },
  "language_info": {
   "codemirror_mode": {
    "name": "ipython",
    "version": 2
   },
   "file_extension": ".py",
   "mimetype": "text/x-python",
   "name": "python",
   "nbconvert_exporter": "python",
   "pygments_lexer": "ipython2",
   "version": "2.7.12"
  }
 },
 "nbformat": 4,
 "nbformat_minor": 2
}
