{
 "cells": [
  {
   "cell_type": "code",
   "execution_count": 1,
   "metadata": {
    "collapsed": true
   },
   "outputs": [],
   "source": [
    "import sys\n",
    "sys.path.insert(0,'/home/ernie/caffe2/build')\n",
    "from caffe2.python import cnn, workspace, core\n",
    "from caffe2.proto import caffe2_pb2\n",
    "import numpy as np\n",
    "import time"
   ]
  },
  {
   "cell_type": "code",
   "execution_count": 2,
   "metadata": {
    "collapsed": false
   },
   "outputs": [
    {
     "name": "stdout",
     "output_type": "stream",
     "text": [
      "name: \"mboxloss_test\"\n",
      "op {\n",
      "  input: \"loc\"\n",
      "  input: \"conf\"\n",
      "  input: \"prior\"\n",
      "  input: \"gt_label\"\n",
      "  output: \"mboxloss_test/MultiboxLoss\"\n",
      "  name: \"\"\n",
      "  type: \"MultiboxLoss\"\n",
      "}\n",
      "external_input: \"loc\"\n",
      "external_input: \"conf\"\n",
      "external_input: \"prior\"\n",
      "external_input: \"gt_label\"\n",
      "\n"
     ]
    }
   ],
   "source": [
    "mbox_loc = np.load('mbox_loc.npy')\n",
    "mbox_conf = np.load('mbox_conf.npy')\n",
    "mbox_priorbox = np.load('mbox_priorbox.npy')\n",
    "gt_label = np.load('gt_label.npy')\n",
    "net = core.Net(\"mboxloss_test\")\n",
    "net.MultiboxLoss([\"loc\",\"conf\",\"prior\",\"gt_label\"])\n",
    "print net.Proto()"
   ]
  },
  {
   "cell_type": "code",
   "execution_count": 3,
   "metadata": {
    "collapsed": false
   },
   "outputs": [
    {
     "data": {
      "text/plain": [
       "True"
      ]
     },
     "execution_count": 3,
     "metadata": {},
     "output_type": "execute_result"
    }
   ],
   "source": [
    "workspace.FeedBlob(\"loc\",mbox_loc)\n",
    "workspace.FeedBlob(\"conf\",mbox_conf)\n",
    "workspace.FeedBlob(\"prior\",mbox_priorbox)\n",
    "workspace.FeedBlob(\"gt_label\",gt_label)\n",
    "workspace.CreateNet(net.Proto())\n",
    "workspace.RunNet(\"mboxloss_test\",1)"
   ]
  },
  {
   "cell_type": "code",
   "execution_count": null,
   "metadata": {
    "collapsed": false
   },
   "outputs": [],
   "source": []
  },
  {
   "cell_type": "code",
   "execution_count": 5,
   "metadata": {
    "collapsed": false
   },
   "outputs": [
    {
     "data": {
      "text/plain": [
       "True"
      ]
     },
     "execution_count": 5,
     "metadata": {},
     "output_type": "execute_result"
    }
   ],
   "source": []
  },
  {
   "cell_type": "code",
   "execution_count": 6,
   "metadata": {
    "collapsed": false,
    "scrolled": true
   },
   "outputs": [
    {
     "data": {
      "text/plain": [
       "True"
      ]
     },
     "execution_count": 6,
     "metadata": {},
     "output_type": "execute_result"
    }
   ],
   "source": []
  },
  {
   "cell_type": "code",
   "execution_count": null,
   "metadata": {
    "collapsed": true
   },
   "outputs": [],
   "source": []
  },
  {
   "cell_type": "code",
   "execution_count": null,
   "metadata": {
    "collapsed": true
   },
   "outputs": [],
   "source": []
  }
 ],
 "metadata": {
  "kernelspec": {
   "display_name": "Python 2",
   "language": "python",
   "name": "python2"
  },
  "language_info": {
   "codemirror_mode": {
    "name": "ipython",
    "version": 2
   },
   "file_extension": ".py",
   "mimetype": "text/x-python",
   "name": "python",
   "nbconvert_exporter": "python",
   "pygments_lexer": "ipython2",
   "version": "2.7.12"
  }
 },
 "nbformat": 4,
 "nbformat_minor": 2
}
