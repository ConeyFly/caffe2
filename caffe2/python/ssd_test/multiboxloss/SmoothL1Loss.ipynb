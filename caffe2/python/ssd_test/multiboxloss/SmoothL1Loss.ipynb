{
 "cells": [
  {
   "cell_type": "code",
   "execution_count": 1,
   "metadata": {
    "collapsed": true,
    "deletable": true,
    "editable": true
   },
   "outputs": [],
   "source": [
    "import sys\n",
    "sys.path.insert(0,'/home/ernie/caffe2/build')\n",
    "from caffe2.python import cnn,workspace,core\n",
    "from caffe2.proto import caffe2_pb2\n",
    "import numpy as np\n",
    "import time"
   ]
  },
  {
   "cell_type": "code",
   "execution_count": 2,
   "metadata": {
    "collapsed": false,
    "deletable": true,
    "editable": true
   },
   "outputs": [
    {
     "name": "stdout",
     "output_type": "stream",
     "text": [
      "name: \"SmoothL1Loss\"\n",
      "op {\n",
      "  input: \"x1\"\n",
      "  input: \"x2\"\n",
      "  output: \"y\"\n",
      "  name: \"\"\n",
      "  type: \"SmoothL1Loss\"\n",
      "}\n",
      "op {\n",
      "  input: \"y\"\n",
      "  output: \"y_autogen_grad\"\n",
      "  name: \"\"\n",
      "  type: \"ConstantFill\"\n",
      "  arg {\n",
      "    name: \"value\"\n",
      "    f: 1.0\n",
      "  }\n",
      "}\n",
      "op {\n",
      "  input: \"x1\"\n",
      "  input: \"x2\"\n",
      "  output: \"x1_grad\"\n",
      "  name: \"\"\n",
      "  type: \"SmoothL1LossGradient\"\n",
      "  is_gradient_op: true\n",
      "}\n",
      "external_input: \"x1\"\n",
      "external_input: \"x2\"\n",
      "\n"
     ]
    }
   ],
   "source": [
    "net = core.Net(\"SmoothL1Loss\")\n",
    "net.SmoothL1Loss([\"x1\",\"x2\"],[\"y\"])\n",
    "x1 = np.random.rand(4, 10, 1, 1).astype(np.float32)\n",
    "x2 = np.random.rand(4, 10, 1, 1).astype(np.float32)\n",
    "workspace.FeedBlob(\"x1\",x1)\n",
    "workspace.FeedBlob(\"x2\",x2)\n",
    "net.AddGradientOperators([\"y\"])\n",
    "workspace.CreateNet(net.Proto())\n",
    "print net.Proto()"
   ]
  },
  {
   "cell_type": "code",
   "execution_count": 3,
   "metadata": {
    "collapsed": false,
    "deletable": true,
    "editable": true
   },
   "outputs": [
    {
     "name": "stdout",
     "output_type": "stream",
     "text": [
      "8.80552482605\n"
     ]
    }
   ],
   "source": [
    "workspace.RunNet(\"SmoothL1Loss\",1)\n",
    "y = workspace.FetchBlob(\"y\")\n",
    "print y"
   ]
  },
  {
   "cell_type": "code",
   "execution_count": null,
   "metadata": {
    "collapsed": true,
    "deletable": true,
    "editable": true
   },
   "outputs": [],
   "source": []
  }
 ],
 "metadata": {
  "kernelspec": {
   "display_name": "Python 2",
   "language": "python",
   "name": "python2"
  },
  "language_info": {
   "codemirror_mode": {
    "name": "ipython",
    "version": 2
   },
   "file_extension": ".py",
   "mimetype": "text/x-python",
   "name": "python",
   "nbconvert_exporter": "python",
   "pygments_lexer": "ipython2",
   "version": "2.7.12"
  }
 },
 "nbformat": 4,
 "nbformat_minor": 2
}
