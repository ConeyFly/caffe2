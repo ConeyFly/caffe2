{
 "cells": [
  {
   "cell_type": "code",
   "execution_count": 1,
   "metadata": {
    "collapsed": true
   },
   "outputs": [],
   "source": [
    "import sys\n",
    "sys.path.insert(0,'/home/ernie/caffe2/build')\n",
    "from caffe2.python import cnn, workspace, core\n",
    "from caffe2.proto import caffe2_pb2\n",
    "import numpy as np\n",
    "import time"
   ]
  },
  {
   "cell_type": "code",
   "execution_count": 2,
   "metadata": {
    "collapsed": false
   },
   "outputs": [
    {
     "name": "stdout",
     "output_type": "stream",
     "text": [
      "name: \"norm_combine\"\n",
      "op {\n",
      "  input: \"X\"\n",
      "  input: \"scale\"\n",
      "  output: \"Y\"\n",
      "  output: \"norm\"\n",
      "  name: \"\"\n",
      "  type: \"Norm\"\n",
      "  arg {\n",
      "    name: \"across_spatial\"\n",
      "    i: 0\n",
      "  }\n",
      "  arg {\n",
      "    name: \"channels_shared\"\n",
      "    i: 0\n",
      "  }\n",
      "  arg {\n",
      "    name: \"eps\"\n",
      "    f: 1.00000001335e-10\n",
      "  }\n",
      "}\n",
      "op {\n",
      "  input: \"X\"\n",
      "  input: \"scale\"\n",
      "  input: \"Y\"\n",
      "  input: \"dY\"\n",
      "  input: \"norm\"\n",
      "  output: \"dX\"\n",
      "  output: \"dscale\"\n",
      "  name: \"\"\n",
      "  type: \"NormGradient\"\n",
      "  arg {\n",
      "    name: \"across_spatial\"\n",
      "    i: 0\n",
      "  }\n",
      "  arg {\n",
      "    name: \"channels_shared\"\n",
      "    i: 0\n",
      "  }\n",
      "  arg {\n",
      "    name: \"eps\"\n",
      "    f: 1.00000001335e-10\n",
      "  }\n",
      "}\n",
      "external_input: \"X\"\n",
      "external_input: \"scale\"\n",
      "external_input: \"dY\"\n",
      "\n",
      "28065.0\n"
     ]
    }
   ],
   "source": [
    "X = np.load('X.npy')\n",
    "scale = np.load('scale.npy')\n",
    "\n",
    "net = core.Net(\"norm_combine\")\n",
    "net.Norm([\"X\",\"scale\"],[\"Y\",\"norm\"],across_spatial=False,channels_shared=False,eps=1e-10)\n",
    "\n",
    "workspace.FeedBlob(\"X\",X)\n",
    "workspace.FeedBlob(\"scale\",scale)\n",
    "\n",
    "net.NormGradient([\"X\",\"scale\",\"Y\",\"dY\",\"norm\"],[\"dX\",\"dscale\"],across_spatial=False,channels_shared=False,eps=1e-10)\n",
    "#workspace.FeedBlob(\"X\",X)\n",
    "#workspace.FeedBlob(\"scale\",scale)\n",
    "#workspace.FeedBlob(\"Y\",Y)\n",
    "dY = np.load(\"dY.npy\")\n",
    "workspace.FeedBlob(\"dY\",dY)\n",
    "\n",
    "workspace.CreateNet(net.Proto())\n",
    "print net.Proto()\n",
    "workspace.RunNet(\"norm_combine\",1)\n",
    "\n",
    "Y = workspace.FetchBlob(\"Y\")\n",
    "print np.sum(Y)"
   ]
  },
  {
   "cell_type": "code",
   "execution_count": 3,
   "metadata": {
    "collapsed": false
   },
   "outputs": [
    {
     "name": "stdout",
     "output_type": "stream",
     "text": [
      "7040.23\n",
      "28277.9\n"
     ]
    }
   ],
   "source": [
    "\n",
    "\n",
    "#workspace.CreateNet(net.Proto())\n",
    "#workspace.RunNet(\"norm_combine\",1)\n",
    "\n",
    "dX = workspace.FetchBlob(\"dX\")\n",
    "dscale = workspace.FetchBlob(\"dscale\")\n",
    "\n",
    "print np.sum(dX)\n",
    "print np.sum(dscale)"
   ]
  },
  {
   "cell_type": "code",
   "execution_count": 4,
   "metadata": {
    "collapsed": false,
    "scrolled": true
   },
   "outputs": [
    {
     "name": "stdout",
     "output_type": "stream",
     "text": [
      "[[[[-inf -inf -inf ..., -inf -inf -inf]\n",
      "   [-inf -inf -inf ..., -inf -inf -inf]\n",
      "   [-inf -inf -inf ..., -inf -inf -inf]\n",
      "   ..., \n",
      "   [-inf -inf -inf ..., -inf -inf -inf]\n",
      "   [-inf -inf -inf ..., -inf -inf -inf]\n",
      "   [-inf -inf -inf ..., -inf -inf -inf]]\n",
      "\n",
      "  [[-inf -inf -inf ..., -inf -inf -inf]\n",
      "   [-inf -inf -inf ..., -inf -inf -inf]\n",
      "   [-inf -inf -inf ..., -inf -inf -inf]\n",
      "   ..., \n",
      "   [-inf -inf -inf ..., -inf -inf -inf]\n",
      "   [-inf -inf -inf ..., -inf -inf -inf]\n",
      "   [-inf -inf -inf ..., -inf -inf -inf]]\n",
      "\n",
      "  [[-inf -inf -inf ..., -inf -inf -inf]\n",
      "   [-inf -inf -inf ..., -inf -inf -inf]\n",
      "   [-inf -inf -inf ..., -inf -inf -inf]\n",
      "   ..., \n",
      "   [-inf -inf -inf ..., -inf -inf -inf]\n",
      "   [-inf -inf -inf ..., -inf -inf -inf]\n",
      "   [-inf -inf -inf ..., -inf -inf -inf]]\n",
      "\n",
      "  ..., \n",
      "  [[-inf -inf -inf ..., -inf -inf -inf]\n",
      "   [-inf -inf -inf ..., -inf -inf -inf]\n",
      "   [-inf -inf -inf ..., -inf -inf -inf]\n",
      "   ..., \n",
      "   [-inf -inf -inf ..., -inf -inf -inf]\n",
      "   [-inf -inf -inf ..., -inf -inf -inf]\n",
      "   [-inf -inf -inf ..., -inf -inf -inf]]\n",
      "\n",
      "  [[-inf -inf -inf ..., -inf -inf -inf]\n",
      "   [-inf -inf -inf ..., -inf -inf -inf]\n",
      "   [-inf -inf -inf ..., -inf -inf -inf]\n",
      "   ..., \n",
      "   [-inf -inf -inf ..., -inf -inf -inf]\n",
      "   [-inf -inf -inf ..., -inf -inf -inf]\n",
      "   [-inf -inf -inf ..., -inf -inf -inf]]\n",
      "\n",
      "  [[-inf -inf -inf ..., -inf -inf -inf]\n",
      "   [-inf -inf -inf ..., -inf -inf -inf]\n",
      "   [-inf -inf -inf ..., -inf -inf -inf]\n",
      "   ..., \n",
      "   [-inf -inf -inf ..., -inf -inf -inf]\n",
      "   [-inf -inf -inf ..., -inf -inf -inf]\n",
      "   [-inf -inf -inf ..., -inf -inf -inf]]]\n",
      "\n",
      "\n",
      " [[[-inf -inf -inf ..., -inf -inf -inf]\n",
      "   [-inf -inf -inf ..., -inf -inf -inf]\n",
      "   [-inf -inf -inf ..., -inf -inf -inf]\n",
      "   ..., \n",
      "   [-inf -inf -inf ..., -inf -inf -inf]\n",
      "   [-inf -inf -inf ..., -inf -inf -inf]\n",
      "   [-inf -inf -inf ..., -inf -inf -inf]]\n",
      "\n",
      "  [[-inf -inf -inf ..., -inf -inf -inf]\n",
      "   [-inf -inf -inf ..., -inf -inf -inf]\n",
      "   [-inf -inf -inf ..., -inf -inf -inf]\n",
      "   ..., \n",
      "   [-inf -inf -inf ..., -inf -inf -inf]\n",
      "   [-inf -inf -inf ..., -inf -inf -inf]\n",
      "   [-inf -inf -inf ..., -inf -inf -inf]]\n",
      "\n",
      "  [[-inf -inf -inf ..., -inf -inf -inf]\n",
      "   [-inf -inf -inf ..., -inf -inf -inf]\n",
      "   [-inf -inf -inf ..., -inf -inf -inf]\n",
      "   ..., \n",
      "   [-inf -inf -inf ..., -inf -inf -inf]\n",
      "   [-inf -inf -inf ..., -inf -inf -inf]\n",
      "   [-inf -inf -inf ..., -inf -inf -inf]]\n",
      "\n",
      "  ..., \n",
      "  [[-inf -inf -inf ..., -inf -inf -inf]\n",
      "   [-inf -inf -inf ..., -inf -inf -inf]\n",
      "   [-inf -inf -inf ..., -inf -inf -inf]\n",
      "   ..., \n",
      "   [-inf -inf -inf ..., -inf -inf -inf]\n",
      "   [-inf -inf -inf ..., -inf -inf -inf]\n",
      "   [-inf -inf -inf ..., -inf -inf -inf]]\n",
      "\n",
      "  [[-inf -inf -inf ..., -inf -inf -inf]\n",
      "   [-inf -inf -inf ..., -inf -inf -inf]\n",
      "   [-inf -inf -inf ..., -inf -inf -inf]\n",
      "   ..., \n",
      "   [-inf -inf -inf ..., -inf -inf -inf]\n",
      "   [-inf -inf -inf ..., -inf -inf -inf]\n",
      "   [-inf -inf -inf ..., -inf -inf -inf]]\n",
      "\n",
      "  [[-inf -inf -inf ..., -inf -inf -inf]\n",
      "   [-inf -inf -inf ..., -inf -inf -inf]\n",
      "   [-inf -inf -inf ..., -inf -inf -inf]\n",
      "   ..., \n",
      "   [-inf -inf -inf ..., -inf -inf -inf]\n",
      "   [-inf -inf -inf ..., -inf -inf -inf]\n",
      "   [-inf -inf -inf ..., -inf -inf -inf]]]]\n"
     ]
    }
   ],
   "source": [
    "print dX"
   ]
  },
  {
   "cell_type": "code",
   "execution_count": null,
   "metadata": {
    "collapsed": true
   },
   "outputs": [],
   "source": []
  }
 ],
 "metadata": {
  "kernelspec": {
   "display_name": "Python 2",
   "language": "python",
   "name": "python2"
  },
  "language_info": {
   "codemirror_mode": {
    "name": "ipython",
    "version": 2
   },
   "file_extension": ".py",
   "mimetype": "text/x-python",
   "name": "python",
   "nbconvert_exporter": "python",
   "pygments_lexer": "ipython2",
   "version": "2.7.12"
  }
 },
 "nbformat": 4,
 "nbformat_minor": 2
}
